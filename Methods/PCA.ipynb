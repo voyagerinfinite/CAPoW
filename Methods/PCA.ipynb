{
 "cells": [
  {
   "cell_type": "code",
   "execution_count": 1,
   "metadata": {},
   "outputs": [],
   "source": [
    "import numpy as np # linear algebra\n",
    "import pandas as pd # data processing, CSV file I/O (e.g. pd.read_csv)\n",
    "import matplotlib as mpl\n",
    "import matplotlib.pyplot as plt\n",
    "import seaborn as sns\n",
    "import pickle\n",
    "%matplotlib inline\n",
    "\n",
    "from enum import Enum"
   ]
  },
  {
   "cell_type": "code",
   "execution_count": 2,
   "metadata": {},
   "outputs": [],
   "source": [
    "class DATA_TYPE(Enum):\n",
    "    BENIGN = 'BENIGN'\n",
    "    MALICIOUS = 'MALICIOUS'\n",
    "\n",
    "PROCESSED_FILES_PATH = '../Data/Processed-CIC-IDS2017/'\n",
    "UPDATED_LABEL_DF_FILE_NAME = 'updated_label_df.pkl'\n",
    "\n",
    "file_path = PROCESSED_FILES_PATH + UPDATED_LABEL_DF_FILE_NAME"
   ]
  },
  {
   "cell_type": "code",
   "execution_count": 3,
   "metadata": {},
   "outputs": [],
   "source": [
    "ALL_COLUMNS = [\n",
    "    'Flow ID',\n",
    "    ' Source IP',\n",
    "    ' Source Port',\n",
    "    ' Destination IP',\n",
    "    ' Destination Port',\n",
    "    ' Protocol',\n",
    "    ' Timestamp',\n",
    "    ' Flow Duration',\n",
    "    ' Total Fwd Packets',\n",
    "    ' Total Backward Packets',\n",
    "    'Total Length of Fwd Packets',\n",
    "    ' Total Length of Bwd Packets',\n",
    "    ' Fwd Packet Length Max',\n",
    "    ' Fwd Packet Length Min',\n",
    "    ' Fwd Packet Length Mean',\n",
    "    ' Fwd Packet Length Std',\n",
    "    'Bwd Packet Length Max',\n",
    "    ' Bwd Packet Length Min',\n",
    "    ' Bwd Packet Length Mean',\n",
    "    ' Bwd Packet Length Std',\n",
    "    'Flow Bytes/s',\n",
    "    ' Flow Packets/s',\n",
    "    ' Flow IAT Mean',\n",
    "    ' Flow IAT Std',\n",
    "    ' Flow IAT Max',\n",
    "    ' Flow IAT Min',\n",
    "    'Fwd IAT Total',\n",
    "    ' Fwd IAT Mean',\n",
    "    ' Fwd IAT Std',\n",
    "    ' Fwd IAT Max',\n",
    "    ' Fwd IAT Min',\n",
    "    'Bwd IAT Total',\n",
    "    ' Bwd IAT Mean',\n",
    "    ' Bwd IAT Std',\n",
    "    ' Bwd IAT Max',\n",
    "    ' Bwd IAT Min',\n",
    "    'Fwd PSH Flags',\n",
    "    ' Bwd PSH Flags',\n",
    "    ' Fwd URG Flags',\n",
    "    ' Bwd URG Flags',\n",
    "    ' Fwd Header Length',\n",
    "    ' Bwd Header Length',\n",
    "    'Fwd Packets/s',\n",
    "    ' Bwd Packets/s',\n",
    "    ' Min Packet Length',\n",
    "    ' Max Packet Length',\n",
    "    ' Packet Length Mean',\n",
    "    ' Packet Length Std',\n",
    "    ' Packet Length Variance',\n",
    "    'FIN Flag Count',\n",
    "    ' SYN Flag Count',\n",
    "    ' RST Flag Count',\n",
    "    ' PSH Flag Count',\n",
    "    ' ACK Flag Count',\n",
    "    ' URG Flag Count',\n",
    "    ' CWE Flag Count',\n",
    "    ' ECE Flag Count',\n",
    "    ' Down/Up Ratio',\n",
    "    ' Average Packet Size',\n",
    "    ' Avg Fwd Segment Size',\n",
    "    ' Avg Bwd Segment Size',\n",
    "    ' Fwd Header Length.1',\n",
    "    'Fwd Avg Bytes/Bulk',\n",
    "    ' Fwd Avg Packets/Bulk',\n",
    "    ' Fwd Avg Bulk Rate',\n",
    "    ' Bwd Avg Bytes/Bulk',\n",
    "    ' Bwd Avg Packets/Bulk',\n",
    "    'Bwd Avg Bulk Rate',\n",
    "    'Subflow Fwd Packets',\n",
    "    ' Subflow Fwd Bytes',\n",
    "    ' Subflow Bwd Packets',\n",
    "    ' Subflow Bwd Bytes',\n",
    "    'Init_Win_bytes_forward',\n",
    "    ' Init_Win_bytes_backward',\n",
    "    ' act_data_pkt_fwd',\n",
    "    ' min_seg_size_forward',\n",
    "    'Active Mean',\n",
    "    ' Active Std',\n",
    "    ' Active Max',\n",
    "    ' Active Min',\n",
    "    'Idle Mean',\n",
    "    ' Idle Std',\n",
    "    ' Idle Max',\n",
    "    ' Idle Min',\n",
    "    ' Label',\n",
    "]\n",
    "\n",
    "DROP_COLUMNS = [\n",
    "    'Unnamed: 0',\n",
    "    'Flow ID',\n",
    "    ' Source IP',\n",
    "    ' Destination IP',\n",
    "    'Flow Bytes/s'\n",
    "]"
   ]
  },
  {
   "cell_type": "code",
   "execution_count": 4,
   "metadata": {},
   "outputs": [],
   "source": [
    "FILES_PATH = '../Data/CIC-IDS2017/'\n",
    "FILE_NAME_LIST = [\n",
    "    [\n",
    "        'Monday-WorkingHours.pcap_ISCX.csv'\n",
    "    ],\n",
    "    [\n",
    "        'Tuesday-WorkingHours.pcap_ISCX.csv'\n",
    "    ],\n",
    "    [\n",
    "        'Wednesday-workingHours.pcap_ISCX.csv'\n",
    "    ],\n",
    "    [\n",
    "        'Thursday-WorkingHours-Morning-WebAttacks.pcap_ISCX.csv',\n",
    "        'Thursday-WorkingHours-Afternoon-Infilteration.pcap_ISCX.csv'\n",
    "    ],\n",
    "    [\n",
    "        'Friday-WorkingHours-Morning.pcap_ISCX.csv',\n",
    "        'Friday-WorkingHours-Afternoon-PortScan.pcap_ISCX.csv',\n",
    "        'Friday-WorkingHours-Afternoon-DDos.pcap_ISCX.csv'\n",
    "    ]\n",
    "]"
   ]
  },
  {
   "cell_type": "code",
   "execution_count": 5,
   "metadata": {},
   "outputs": [],
   "source": [
    "def read_file(file_path: str):\n",
    "    return pd.read_csv(file_path)"
   ]
  },
  {
   "cell_type": "code",
   "execution_count": 6,
   "metadata": {},
   "outputs": [],
   "source": [
    "def filter_benign_data(file_df: pd.DataFrame):\n",
    "    return file_df[file_df[' Label'] == 'BENIGN']\n",
    "\n",
    "def filter_malicious_data(file_df: pd.DataFrame):\n",
    "    return file_df[file_df[' Label'] != 'BENIGN']"
   ]
  },
  {
   "cell_type": "code",
   "execution_count": 7,
   "metadata": {},
   "outputs": [],
   "source": [
    "def get_processed_df(file_path: str, type: str = None):\n",
    "    file_df = read_file(file_path)\n",
    "    if type == DATA_TYPE.BENIGN:\n",
    "        file_df = filter_benign_data(file_df)\n",
    "    elif type == DATA_TYPE.MALICIOUS:\n",
    "        file_df = filter_malicious_data(file_df)\n",
    "\n",
    "    return file_df"
   ]
  },
  {
   "cell_type": "code",
   "execution_count": 8,
   "metadata": {},
   "outputs": [],
   "source": [
    "def get_file_by_day(day: int, type: str = None):\n",
    "    file_df = get_processed_df(FILES_PATH + FILE_NAME_LIST[day][0], type)\n",
    "    for i in FILE_NAME_LIST[day][1:]:\n",
    "        file_df = pd.concat([file_df, get_processed_df(FILES_PATH + i, type)], axis=0)\n",
    "    return file_df"
   ]
  },
  {
   "cell_type": "code",
   "execution_count": 9,
   "metadata": {},
   "outputs": [],
   "source": [
    "def get_complete_df():\n",
    "    file_df = get_file_by_day(0)\n",
    "    for i in range(1, 5):\n",
    "        file_df = pd.concat([file_df, get_file_by_day(i)], axis=0)\n",
    "    \n",
    "    return file_df"
   ]
  },
  {
   "cell_type": "code",
   "execution_count": 10,
   "metadata": {},
   "outputs": [],
   "source": [
    "def update_target_label(file_df: pd.DataFrame):\n",
    "    df = file_df.copy()\n",
    "    for index, row in file_df.iterrows():\n",
    "        if row[' Label'] == 'BENIGN':\n",
    "            df.at[index, ' Label'] = 0\n",
    "        else:\n",
    "            df.at[index, ' Label'] = 1\n",
    "        \n",
    "    return df"
   ]
  },
  {
   "cell_type": "code",
   "execution_count": 11,
   "metadata": {},
   "outputs": [],
   "source": [
    "def save_updated_labeled_data(file_df: pd.DataFrame):\n",
    "    with open(file_path, 'wb') as f:\n",
    "        pickle.dump(file_df, f)\n",
    "        print(f\"Successfully saved at: {file_path}\")"
   ]
  },
  {
   "cell_type": "code",
   "execution_count": null,
   "metadata": {},
   "outputs": [],
   "source": [
    "### Need not to execute once processed and saved as pickle \n",
    "# df = get_complete_df()\n",
    "# df = update_target_label(df)\n",
    "# save_updated_labeled_data(df)"
   ]
  },
  {
   "cell_type": "code",
   "execution_count": 12,
   "metadata": {},
   "outputs": [],
   "source": [
    "def read_updated_labeled_data():\n",
    "    with open(file_path, 'rb') as f:\n",
    "        file_df = pickle.load(f)\n",
    "    return file_df"
   ]
  },
  {
   "cell_type": "code",
   "execution_count": 13,
   "metadata": {},
   "outputs": [],
   "source": [
    "def filter_labeled_df(file_df: pd.DataFrame):\n",
    "    return file_df.drop(DROP_COLUMNS, axis=1)"
   ]
  },
  {
   "cell_type": "code",
   "execution_count": 14,
   "metadata": {},
   "outputs": [
    {
     "data": {
      "text/plain": [
       "(2830743, 81)"
      ]
     },
     "execution_count": 14,
     "metadata": {},
     "output_type": "execute_result"
    }
   ],
   "source": [
    "df = read_updated_labeled_data()\n",
    "df = filter_labeled_df(df)\n",
    "df.shape"
   ]
  },
  {
   "cell_type": "code",
   "execution_count": 15,
   "metadata": {},
   "outputs": [
    {
     "name": "stdout",
     "output_type": "stream",
     "text": [
      "Columns names:\n",
      "[' Source Port', ' Destination Port', ' Protocol', ' Timestamp', ' Flow Duration', ' Total Fwd Packets', ' Total Backward Packets', 'Total Length of Fwd Packets', ' Total Length of Bwd Packets', ' Fwd Packet Length Max', ' Fwd Packet Length Min', ' Fwd Packet Length Mean', ' Fwd Packet Length Std', 'Bwd Packet Length Max', ' Bwd Packet Length Min', ' Bwd Packet Length Mean', ' Bwd Packet Length Std', ' Flow Packets/s', ' Flow IAT Mean', ' Flow IAT Std', ' Flow IAT Max', ' Flow IAT Min', 'Fwd IAT Total', ' Fwd IAT Mean', ' Fwd IAT Std', ' Fwd IAT Max', ' Fwd IAT Min', 'Bwd IAT Total', ' Bwd IAT Mean', ' Bwd IAT Std', ' Bwd IAT Max', ' Bwd IAT Min', 'Fwd PSH Flags', ' Bwd PSH Flags', ' Fwd URG Flags', ' Bwd URG Flags', ' Fwd Header Length', ' Bwd Header Length', 'Fwd Packets/s', ' Bwd Packets/s', ' Min Packet Length', ' Max Packet Length', ' Packet Length Mean', ' Packet Length Std', ' Packet Length Variance', 'FIN Flag Count', ' SYN Flag Count', ' RST Flag Count', ' PSH Flag Count', ' ACK Flag Count', ' URG Flag Count', ' CWE Flag Count', ' ECE Flag Count', ' Down/Up Ratio', ' Average Packet Size', ' Avg Fwd Segment Size', ' Avg Bwd Segment Size', ' Fwd Header Length.1', 'Fwd Avg Bytes/Bulk', ' Fwd Avg Packets/Bulk', ' Fwd Avg Bulk Rate', ' Bwd Avg Bytes/Bulk', ' Bwd Avg Packets/Bulk', 'Bwd Avg Bulk Rate', 'Subflow Fwd Packets', ' Subflow Fwd Bytes', ' Subflow Bwd Packets', ' Subflow Bwd Bytes', 'Init_Win_bytes_forward', ' Init_Win_bytes_backward', ' act_data_pkt_fwd', ' min_seg_size_forward', 'Active Mean', ' Active Std', ' Active Max', ' Active Min', 'Idle Mean', ' Idle Std', ' Idle Max', ' Idle Min', ' Label']\n"
     ]
    }
   ],
   "source": [
    "columns_names=df.columns.tolist()\n",
    "print(\"Columns names:\")\n",
    "print(columns_names)"
   ]
  },
  {
   "cell_type": "code",
   "execution_count": null,
   "metadata": {},
   "outputs": [],
   "source": [
    "df.head"
   ]
  },
  {
   "cell_type": "code",
   "execution_count": 16,
   "metadata": {},
   "outputs": [],
   "source": [
    "for col in df.columns:\n",
    "    df[col] = df[col].astype(float)"
   ]
  },
  {
   "cell_type": "code",
   "execution_count": null,
   "metadata": {},
   "outputs": [],
   "source": [
    "df.info()"
   ]
  },
  {
   "cell_type": "code",
   "execution_count": null,
   "metadata": {},
   "outputs": [],
   "source": [
    "df.corr()"
   ]
  },
  {
   "cell_type": "code",
   "execution_count": null,
   "metadata": {},
   "outputs": [],
   "source": [
    "correlation = df.corr()\n",
    "plt.figure(figsize=(10,10))\n",
    "sns.heatmap(correlation, vmax=1, square=True,annot=True,cmap='cubehelix')\n",
    "\n",
    "plt.title('Correlation between different fearures')"
   ]
  },
  {
   "cell_type": "code",
   "execution_count": null,
   "metadata": {},
   "outputs": [],
   "source": [
    "cols = df.columns.tolist()\n",
    "cols"
   ]
  },
  {
   "cell_type": "code",
   "execution_count": null,
   "metadata": {},
   "outputs": [],
   "source": [
    "cols.insert(0, cols.pop(cols.index(' Label')))"
   ]
  },
  {
   "cell_type": "code",
   "execution_count": null,
   "metadata": {},
   "outputs": [],
   "source": [
    "cols"
   ]
  },
  {
   "cell_type": "code",
   "execution_count": null,
   "metadata": {},
   "outputs": [],
   "source": [
    "df = df.reindex(columns= cols)"
   ]
  },
  {
   "cell_type": "code",
   "execution_count": null,
   "metadata": {},
   "outputs": [],
   "source": [
    "df.head"
   ]
  },
  {
   "cell_type": "code",
   "execution_count": null,
   "metadata": {},
   "outputs": [],
   "source": [
    "a = df.isnull().sum().tolist()\n",
    "b = df.columns\n",
    "# sum(a)\n",
    "\n",
    "for i,j in zip(a, b):\n",
    "    print(i, j)\n"
   ]
  },
  {
   "cell_type": "code",
   "execution_count": null,
   "metadata": {},
   "outputs": [],
   "source": [
    "from sklearn.impute import SimpleImputer\n",
    "imp = SimpleImputer(strategy=\"median\", fill_value=None)\n",
    "# df[cols].fillna(np.nan, inplace=True)\n",
    "df = imp.fit_transform(df)"
   ]
  },
  {
   "cell_type": "code",
   "execution_count": null,
   "metadata": {},
   "outputs": [],
   "source": [
    "X = df.iloc[:,1:].values\n",
    "y = df.iloc[:,0].values\n",
    "print(X.shape)\n",
    "print(y.shape)"
   ]
  },
  {
   "cell_type": "code",
   "execution_count": null,
   "metadata": {},
   "outputs": [],
   "source": [
    "y"
   ]
  },
  {
   "cell_type": "code",
   "execution_count": null,
   "metadata": {},
   "outputs": [],
   "source": [
    "np.shape(X)"
   ]
  },
  {
   "cell_type": "code",
   "execution_count": null,
   "metadata": {},
   "outputs": [],
   "source": [
    "np.shape(y)"
   ]
  },
  {
   "cell_type": "code",
   "execution_count": null,
   "metadata": {},
   "outputs": [],
   "source": [
    "np.any(np.isnan(X))"
   ]
  },
  {
   "cell_type": "code",
   "execution_count": null,
   "metadata": {},
   "outputs": [],
   "source": [
    "np.all(np.isfinite(X))"
   ]
  },
  {
   "cell_type": "code",
   "execution_count": null,
   "metadata": {},
   "outputs": [],
   "source": [
    "from sklearn.preprocessing import StandardScaler\n",
    "X_std = StandardScaler().fit_transform(X)"
   ]
  }
 ],
 "metadata": {
  "kernelspec": {
   "display_name": "Python 3.9.12 ('base')",
   "language": "python",
   "name": "python3"
  },
  "language_info": {
   "codemirror_mode": {
    "name": "ipython",
    "version": 3
   },
   "file_extension": ".py",
   "mimetype": "text/x-python",
   "name": "python",
   "nbconvert_exporter": "python",
   "pygments_lexer": "ipython3",
   "version": "3.9.12"
  },
  "orig_nbformat": 4,
  "vscode": {
   "interpreter": {
    "hash": "cd78fef2128015050713e82ca51c6520b11aee7c9ee8df750520bbbc7384cbaa"
   }
  }
 },
 "nbformat": 4,
 "nbformat_minor": 2
}
